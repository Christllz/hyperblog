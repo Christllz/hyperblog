{
  "nbformat": 4,
  "nbformat_minor": 0,
  "metadata": {
    "colab": {
      "name": "regresion_lineal.ipynb",
      "provenance": [],
      "authorship_tag": "ABX9TyPs/zl3m858BIYoCl2IC1ap",
      "include_colab_link": true
    },
    "kernelspec": {
      "name": "python3",
      "display_name": "Python 3"
    },
    "language_info": {
      "name": "python"
    }
  },
  "cells": [
    {
      "cell_type": "markdown",
      "metadata": {
        "id": "view-in-github",
        "colab_type": "text"
      },
      "source": [
        "<a href=\"https://colab.research.google.com/github/Christllz/hyperblog/blob/master/regresion_lineal.ipynb\" target=\"_parent\"><img src=\"https://colab.research.google.com/assets/colab-badge.svg\" alt=\"Open In Colab\"/></a>"
      ]
    },
    {
      "cell_type": "code",
      "metadata": {
        "id": "NmTcJ_lypt04"
      },
      "source": [
        "import numpy as np\n",
        "import matplotlib.pyplot as plt"
      ],
      "execution_count": 1,
      "outputs": []
    },
    {
      "cell_type": "code",
      "metadata": {
        "id": "l5whLR4PqaZZ"
      },
      "source": [
        "def estimate_b0_b1 (x, y):\n",
        "    # realizar un conteo de nuestros datos\n",
        "    n = np.size(x)\n",
        "    # obtener los promedios de X y de Y\n",
        "    m_x, m_y = np.mean(x), np.mean(y)\n",
        "    # calcular sumatoria de XX y XY\n",
        "    sumatoria_xy = np.sum((x-m_x)*(x-m_y))\n",
        "    sumatoria_xx = np.sum(x*(x-m_x))\n",
        "\n",
        "    # coeficientes de regresion\n",
        "    b_1 = sumatoria_xy / sumatoria_xx\n",
        "    b_0 = m_y - b_1*m_x\n",
        "\n",
        "    return (b_0, b_1)\n",
        "\n",
        "\n"
      ],
      "execution_count": 2,
      "outputs": []
    },
    {
      "cell_type": "code",
      "metadata": {
        "id": "9_q-z64wuRSI"
      },
      "source": [
        "# Funcion de graficado\n",
        "def plot_regression(x, y, b):\n",
        "    plt.scatter(x, y, color = \"g\", marker = \"o\", s =30)  \n",
        "\n",
        "    y_pred = b[0] + b[1]*x\n",
        "    plt.plot(x, y_pred, color = \"b\") \n",
        "\n",
        "    # etiqueta\n",
        "    plt.xlabel(\"x-Independiente\")\n",
        "    plt.ylabel(\"y-Dependiente\")"
      ],
      "execution_count": 3,
      "outputs": []
    },
    {
      "cell_type": "code",
      "metadata": {
        "colab": {
          "base_uri": "https://localhost:8080/",
          "height": 296
        },
        "id": "3wAsiGGEDqZ4",
        "outputId": "b42ed52b-11cc-45cd-97b3-9c289c61b41d"
      },
      "source": [
        "# codigo main\n",
        "def main():\n",
        "    # dataset\n",
        "    x = np.array([1,2,3,4,5])\n",
        "    y = np.array([2,3,6,5,6])\n",
        "    #  obtenemos b1 y b2\n",
        "    b = estimate_b0_b1(x, y)\n",
        "    print(\"Los valores b0 = {}, b1= {}\".format(b[0], b[1]))\n",
        "    # graficamos nuestra linea de regresion\n",
        "    plot_regression(x, y, b)\n",
        "\n",
        "if __name__ == \"__main__\":\n",
        "    main()\n"
      ],
      "execution_count": 6,
      "outputs": [
        {
          "output_type": "stream",
          "text": [
            "Los valores b0 = 1.4000000000000004, b1= 1.0\n"
          ],
          "name": "stdout"
        },
        {
          "output_type": "display_data",
          "data": {
            "image/png": "[encoded data removed]",
            "text/plain": [
              "<Figure size 432x288 with 1 Axes>"
            ]
          },
          "metadata": {
            "tags": [],
            "needs_background": "light"
          }
        }
      ]
    }
  ]
}